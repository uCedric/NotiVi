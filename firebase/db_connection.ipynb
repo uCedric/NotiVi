{
 "cells": [
  {
   "cell_type": "code",
   "execution_count": 20,
   "id": "f5e6e68a",
   "metadata": {},
   "outputs": [
    {
     "name": "stdout",
     "output_type": "stream",
     "text": [
      "{'password': '123456', 'name': 'lingen', 'id': '1', 'email': 'lingen@gmail.com'}\n"
     ]
    }
   ],
   "source": [
    "from google.cloud.firestore_v1 import Increment\n",
    "import firebase_admin\n",
    "from firebase_admin import firestore\n",
    "from firebase_admin import credentials\n",
    "if not firebase_admin._apps:\n",
    "    cred = credentials.Certificate(\"./privatekey.json\")\n",
    "    firebase_admin.initialize_app(cred)\n",
    "\n",
    "db = firestore.client()\n",
    "result = db.collection('members').document(\"root\").get()\n",
    "if result.exists:\n",
    "    print(result.to_dict())"
   ]
  },
  {
   "cell_type": "code",
   "execution_count": 23,
   "id": "546fb967",
   "metadata": {},
   "outputs": [
    {
     "ename": "TypeError",
     "evalue": "__init__() missing 1 required positional argument: 'value'",
     "output_type": "error",
     "traceback": [
      "\u001b[1;31m---------------------------------------------------------------------------\u001b[0m",
      "\u001b[1;31mTypeError\u001b[0m                                 Traceback (most recent call last)",
      "\u001b[1;32m~\\AppData\\Local\\Temp\\ipykernel_19448\\2329880284.py\u001b[0m in \u001b[0;36m<module>\u001b[1;34m\u001b[0m\n\u001b[0;32m      1\u001b[0m doc = {\n\u001b[1;32m----> 2\u001b[1;33m     \u001b[1;34m'id'\u001b[0m\u001b[1;33m:\u001b[0m \u001b[0mIncrement\u001b[0m\u001b[1;33m(\u001b[0m\u001b[1;33m)\u001b[0m\u001b[1;33m,\u001b[0m\u001b[1;33m\u001b[0m\u001b[1;33m\u001b[0m\u001b[0m\n\u001b[0m\u001b[0;32m      3\u001b[0m     \u001b[1;34m'name'\u001b[0m\u001b[1;33m:\u001b[0m \u001b[1;34m\"帽子哥3\"\u001b[0m\u001b[1;33m,\u001b[0m\u001b[1;33m\u001b[0m\u001b[1;33m\u001b[0m\u001b[0m\n\u001b[0;32m      4\u001b[0m     \u001b[1;34m'email'\u001b[0m\u001b[1;33m:\u001b[0m \u001b[1;34m\"abc@gmail.com\"\u001b[0m\u001b[1;33m,\u001b[0m\u001b[1;33m\u001b[0m\u001b[1;33m\u001b[0m\u001b[0m\n\u001b[0;32m      5\u001b[0m     \u001b[1;34m'password'\u001b[0m\u001b[1;33m:\u001b[0m\u001b[1;34m\"pussyislingen\"\u001b[0m\u001b[1;33m\u001b[0m\u001b[1;33m\u001b[0m\u001b[0m\n",
      "\u001b[1;31mTypeError\u001b[0m: __init__() missing 1 required positional argument: 'value'"
     ]
    }
   ],
   "source": [
    "doc = {\n",
    "    'id': Increment(1),\n",
    "    'name': \"帽子哥3\",\n",
    "    'email': \"abc@gmail.com\",\n",
    "    'password':\"pussyislingen\"\n",
    "}\n",
    "db.collection(\"members\").add(doc)"
   ]
  },
  {
   "cell_type": "code",
   "execution_count": 33,
   "id": "dfd5a6bb",
   "metadata": {},
   "outputs": [
    {
     "name": "stdout",
     "output_type": "stream",
     "text": [
      "['videos', 'fight', 'output-0.avi']\n"
     ]
    }
   ],
   "source": [
    "result = db.collection('vedio').document(\"0000\").get()\n",
    "if result.exists:\n",
    "    print(result.to_dict()[\"url\"].split(\"/\")[3:])"
   ]
  },
  {
   "cell_type": "code",
   "execution_count": null,
   "id": "2fbb22a9",
   "metadata": {},
   "outputs": [],
   "source": []
  }
 ],
 "metadata": {
  "kernelspec": {
   "display_name": "model",
   "language": "python",
   "name": "model"
  },
  "language_info": {
   "codemirror_mode": {
    "name": "ipython",
    "version": 3
   },
   "file_extension": ".py",
   "mimetype": "text/x-python",
   "name": "python",
   "nbconvert_exporter": "python",
   "pygments_lexer": "ipython3",
   "version": "3.7.13"
  }
 },
 "nbformat": 4,
 "nbformat_minor": 5
}
