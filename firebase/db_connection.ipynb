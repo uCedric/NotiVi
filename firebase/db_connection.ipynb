{
 "cells": [
  {
   "cell_type": "code",
   "execution_count": 24,
   "id": "f5e6e68a",
   "metadata": {},
   "outputs": [
    {
     "name": "stdout",
     "output_type": "stream",
     "text": [
      "b'$2b$12$zgYhUNAi3p/CRULSQgch7evzGcpgsZLrTv29PqF7jYTnKIKlMt5fy'\n",
      "123\n"
     ]
    },
    {
     "data": {
      "text/plain": [
       "'if result.exists:\\n    print(result.to_dict())'"
      ]
     },
     "execution_count": 24,
     "metadata": {},
     "output_type": "execute_result"
    }
   ],
   "source": [
    "from google.cloud.firestore_v1 import Increment\n",
    "import firebase_admin\n",
    "from firebase_admin import firestore\n",
    "from firebase_admin import credentials\n",
    "import bcrypt\n",
    "if not firebase_admin._apps:\n",
    "    cred = credentials.Certificate(\"./privatekey.json\")\n",
    "    firebase_admin.initialize_app(cred)\n",
    "\n",
    "db = firestore.client()\n",
    "result = db.collection('members').document(\"gawky@gmail.com\")#\n",
    "result_1 = result.get()\n",
    "print(result_1.to_dict()[\"password\"])\n",
    "if result_1.exists:\n",
    "    print(\"123\")\n",
    "\"\"\"if result.exists:\n",
    "    print(result.to_dict())\"\"\""
   ]
  },
  {
   "cell_type": "code",
   "execution_count": 7,
   "id": "546fb967",
   "metadata": {},
   "outputs": [
    {
     "data": {
      "text/plain": [
       "update_time {\n",
       "  seconds: 1656508204\n",
       "  nanos: 85451000\n",
       "}"
      ]
     },
     "execution_count": 7,
     "metadata": {},
     "output_type": "execute_result"
    }
   ],
   "source": [
    "email = \"abc@gmail.com\"\n",
    "doc = {\n",
    "    'name': \"帽子哥3\",\n",
    "    'password':\"pussyislingen\"\n",
    "}\n",
    "doc_ref = db.collection(\"members\").document(email)\n",
    "doc_ref.set(doc)"
   ]
  },
  {
   "cell_type": "code",
   "execution_count": 33,
   "id": "dfd5a6bb",
   "metadata": {},
   "outputs": [
    {
     "name": "stdout",
     "output_type": "stream",
     "text": [
      "['videos', 'fight', 'output-0.avi']\n"
     ]
    }
   ],
   "source": [
    "result = db.collection('vedio').document(\"0000\").get()\n",
    "if result.exists:\n",
    "    print(result.to_dict()[\"url\"].split(\"/\")[3:])"
   ]
  },
  {
   "cell_type": "code",
   "execution_count": null,
   "id": "2fbb22a9",
   "metadata": {},
   "outputs": [],
   "source": []
  }
 ],
 "metadata": {
  "kernelspec": {
   "display_name": "model",
   "language": "python",
   "name": "model"
  },
  "language_info": {
   "codemirror_mode": {
    "name": "ipython",
    "version": 3
   },
   "file_extension": ".py",
   "mimetype": "text/x-python",
   "name": "python",
   "nbconvert_exporter": "python",
   "pygments_lexer": "ipython3",
   "version": "3.7.13"
  }
 },
 "nbformat": 4,
 "nbformat_minor": 5
}
